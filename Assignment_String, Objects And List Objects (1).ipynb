{
 "cells": [
  {
   "cell_type": "markdown",
   "id": "0ccf6224",
   "metadata": {},
   "source": [
    "# Q1. Create the below pattern using nested for loop in Python. \n",
    "    * \n",
    "    * * \n",
    "    * * * \n",
    "    * * * * \n",
    "    * * * * * \n",
    "    * * * * \n",
    "    * * * \n",
    "    * * \n",
    "    * \n"
   ]
  },
  {
   "cell_type": "code",
   "execution_count": 34,
   "id": "1f091da5",
   "metadata": {},
   "outputs": [
    {
     "name": "stdout",
     "output_type": "stream",
     "text": [
      "\n",
      "* \n",
      "* * \n",
      "* * * \n",
      "* * * * \n",
      "* * * * * \n",
      "* * * * \n",
      "* * * \n",
      "* * \n",
      "* \n"
     ]
    }
   ],
   "source": [
    "#divide the problem into two parts then solving\n",
    "n=6\n",
    "#1st part\n",
    "for i in range(n):\n",
    "    for j in range(i):\n",
    "        print(\"*\",end=\" \")  \n",
    "    print()\n",
    "        \n",
    "#2nd part\n",
    "for x in range(4,0,-1):\n",
    "    for y in range(x):\n",
    "        print(\"*\",end=\" \")\n",
    "    print()"
   ]
  },
  {
   "cell_type": "markdown",
   "id": "663b1d38",
   "metadata": {},
   "source": [
    "# Q2. Write a Python program to reverse a word after accepting the input from the user. "
   ]
  },
  {
   "cell_type": "code",
   "execution_count": 28,
   "id": "b920645b",
   "metadata": {},
   "outputs": [
    {
     "name": "stdout",
     "output_type": "stream",
     "text": [
      "Enter the word:Chandrakant\n",
      "Reversed_word: tnakardnahC\n"
     ]
    }
   ],
   "source": [
    "x=input(\"Enter the word:\")\n",
    "print(f\"Reversed_word: {x[::-1]}\")"
   ]
  }
 ],
 "metadata": {
  "kernelspec": {
   "display_name": "Python 3",
   "language": "python",
   "name": "python3"
  },
  "language_info": {
   "codemirror_mode": {
    "name": "ipython",
    "version": 3
   },
   "file_extension": ".py",
   "mimetype": "text/x-python",
   "name": "python",
   "nbconvert_exporter": "python",
   "pygments_lexer": "ipython3",
   "version": "3.8.8"
  }
 },
 "nbformat": 4,
 "nbformat_minor": 5
}
